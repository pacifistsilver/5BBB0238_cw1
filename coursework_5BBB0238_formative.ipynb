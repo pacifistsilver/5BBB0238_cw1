{
 "cells": [
  {
   "cell_type": "markdown",
   "metadata": {},
   "source": [
    "# Coursework (formative assessment)"
   ]
  },
  {
   "cell_type": "markdown",
   "metadata": {},
   "source": [
    "Complete all questions. Code should be fully commented, and comments will be taken into account when awarding marks. Only the libraries math, numpy and matplotlib are permitted."
   ]
  },
  {
   "cell_type": "markdown",
   "metadata": {},
   "source": [
    "1. Read the DNA sequence from the file dnasequence.txt and print it out. (3)"
   ]
  },
  {
   "cell_type": "code",
   "execution_count": 3,
   "metadata": {},
   "outputs": [
    {
     "name": "stdout",
     "output_type": "stream",
     "text": [
      "TCTGACTGAGCTACCCTCGGCTCGATCGCTCTCGATCGTCTCGGCTCTATATAATATGCTGATTATATATAGCCTCTCGCCTAGCTGCTATTATAGAATGCTGCTCGCTCGATGCTGCCGCTATGAGATATGATGCTGCTCGTAGTAGCCTGCTCGATCGTGCTAGCGACTGACTGTCGTAGCTGCTAGCTGCTAGTCGACGATCGACTGACTTCTCTCTCGCGATGAAGTAGCTGCTAGCTAGCTAGCTACGTAGCTATCGATCGATCGACTGATGCATGCAGTCGTAGCATGCTTAATTAGAGAGAG\n",
      "\n"
     ]
    }
   ],
   "source": [
    "file_path = \"C:\\\\Users\\\\danie\\\\Downloads\\\\dnasequence.txt\"\n",
    "with open(file_path, \"r\") as f:\n",
    "    data = f.read()\n",
    "    print(data)"
   ]
  },
  {
   "cell_type": "markdown",
   "metadata": {},
   "source": [
    "2. Identify the length of the DNA sequence (i.e. the number of nucleotides in the sequence). (3)"
   ]
  },
  {
   "cell_type": "code",
   "execution_count": 4,
   "metadata": {},
   "outputs": [
    {
     "name": "stdout",
     "output_type": "stream",
     "text": [
      "310\n"
     ]
    }
   ],
   "source": [
    "file_path = \"C:\\\\Users\\\\danie\\\\Downloads\\\\dnasequence.txt\"\n",
    "with open(file_path, \"r\") as f:\n",
    "    data = f.read()\n",
    "\n",
    "print(len(data))"
   ]
  },
  {
   "cell_type": "markdown",
   "metadata": {},
   "source": [
    "3. Write a program to confirm that the sequence contains the letters A,G,C,T but not U (which would mean it was RNA) or any other letter (which would mean that the data was of an unexpected type). Include messages to the user for both possible error cases. (12)"
   ]
  },
  {
   "cell_type": "code",
   "execution_count": 1,
   "metadata": {},
   "outputs": [
    {
     "name": "stdout",
     "output_type": "stream",
     "text": [
      "DNA Validation: Ok\n"
     ]
    }
   ],
   "source": [
    "file_path = \"C:\\\\Users\\\\danie\\\\Downloads\\\\dnasequence.txt\"\n",
    "\n",
    "with open(file_path, \"r\") as f:\n",
    "    data = f.read().strip(\"\\n\")\n",
    "\n",
    "class SequenceHandler():\n",
    "    def __init__(self, seq) -> None:\n",
    "        self.seq = seq\n",
    "        self.check_set = {'T', 'C', 'A', 'G'}\n",
    "\n",
    "    def validate_dna(self):\n",
    "        \"\"\"\n",
    "        Return errors if unexepcted nucleotides are encountered in the given sequence.\n",
    "\n",
    "        :param seq_set: nucleotide sequence\n",
    "        :param check_set: set to check against for membership testing\n",
    "        :type seq_set: array\n",
    "        :type check_set: set\n",
    "        :return: error message\n",
    "        :rtype: str\n",
    "        \"\"\"\n",
    "        error_messages = [\n",
    "        \"DNA Validation: Ok\",\n",
    "        \"Error: DNA Sequence failed to Validate!\",\n",
    "        \"Error: RNA Sequence found!\"\n",
    "        ]\n",
    "        error_key = None\n",
    "        set_seq = set(self.seq)\n",
    "\n",
    "        if set_seq.issubset(self.check_set) == True:\n",
    "            error_key = 0\n",
    "        elif \"U\" in set_seq: error_key = 2\n",
    "        else: error_key = 1\n",
    "\n",
    "        return error_messages[error_key]\n",
    "\n",
    "handler = SequenceHandler(data)\n",
    "\n",
    "if __name__ == \"__main__\": \n",
    "    print(handler.validate_dna())"
   ]
  },
  {
   "cell_type": "markdown",
   "metadata": {},
   "source": [
    "4. The codon 'ATG' encodes for the amino acid methionine, and indicates the start of an open reading frame (ORF). Find whether there are any instances of this codon in the DNA sequence. (3)"
   ]
  },
  {
   "cell_type": "code",
   "execution_count": 2,
   "metadata": {},
   "outputs": [
    {
     "name": "stdout",
     "output_type": "stream",
     "text": [
      "ATG Found in Sequence\n",
      "DNA Validation: Ok\n"
     ]
    }
   ],
   "source": [
    "file_path = \"C:\\\\Users\\\\danie\\\\Downloads\\\\dnasequence.txt\"\n",
    "\n",
    "with open(file_path, \"r\") as f:\n",
    "    data = f.read().strip(\"\\n\")\n",
    "\n",
    "class SequenceHandler():\n",
    "    def __init__(self, seq) -> None:\n",
    "        self.seq = seq\n",
    "        self.check_set = {'T', 'C', 'A', 'G'}\n",
    "\n",
    "    def validate_dna(self):\n",
    "        \"\"\"\n",
    "        Return errors if unexepcted nucleotides are encountered in the given sequence.\n",
    "\n",
    "        :param seq_set: nucleotide sequence\n",
    "        :param check_set: set to check against for membership testing\n",
    "        :type seq_set: array\n",
    "        :type check_set: set\n",
    "        :return: error message\n",
    "        :rtype: str\n",
    "        \"\"\"\n",
    "        error_messages = [\n",
    "        \"DNA Validation: Ok\",\n",
    "        \"Error: DNA Sequence failed to Validate!\",\n",
    "        \"Error: RNA Sequence found!\"\n",
    "        ]\n",
    "        error_key = None\n",
    "        set_seq = set(self.seq)\n",
    "\n",
    "        if set_seq.issubset(self.check_set) == True:\n",
    "            error_key = 0\n",
    "        elif \"U\" in set_seq: error_key = 2\n",
    "        else: error_key = 1\n",
    "\n",
    "        return error_messages[error_key]\n",
    "\n",
    "handler = SequenceHandler(data)\n",
    "\n",
    "if __name__ == \"__main__\": \n",
    "    if 'ATG' in data: print(\"ATG Found in Sequence\")\n",
    "    print(handler.validate_dna())"
   ]
  },
  {
   "cell_type": "markdown",
   "metadata": {},
   "source": [
    "5. Identify all the indices where 'ATG' sequences start in the DNA sequence. (5)"
   ]
  },
  {
   "cell_type": "code",
   "execution_count": 4,
   "metadata": {},
   "outputs": [
    {
     "name": "stdout",
     "output_type": "stream",
     "text": [
      "[55, 97, 111, 122, 129, 132, 224, 274, 278, 291]\n"
     ]
    }
   ],
   "source": [
    "file_path = \"C:\\\\Users\\\\danie\\\\Downloads\\\\dnasequence.txt\"\n",
    "\n",
    "with open(file_path, \"r\") as f:\n",
    "    data = f.read().strip(\"\\n\")\n",
    "\n",
    "class SequenceHandler():\n",
    "    def __init__(self, seq) -> None:\n",
    "        self.seq = seq\n",
    "        self.check_set = {'T', 'C', 'A', 'G'}\n",
    "\n",
    "    def validate_dna(self):\n",
    "        \"\"\"\n",
    "        Return errors if unexepcted nucleotides are encountered in the given sequence.\n",
    "\n",
    "        :param seq_set: nucleotide sequence\n",
    "        :param check_set: set to check against for membership testing\n",
    "        :type seq_set: array\n",
    "        :type check_set: set\n",
    "        :return: error message\n",
    "        :rtype: str\n",
    "        \"\"\"\n",
    "        error_messages = [\n",
    "        \"DNA Validation: Ok\",\n",
    "        \"Error: DNA Sequence failed to Validate!\",\n",
    "        \"Error: RNA Sequence found!\"\n",
    "        ]\n",
    "        error_key = None\n",
    "        set_seq = set(self.seq)\n",
    "\n",
    "        if set_seq.issubset(self.check_set) == True:\n",
    "            error_key = 0\n",
    "        elif \"U\" in set_seq: error_key = 2\n",
    "        else: error_key = 1\n",
    "\n",
    "        return error_messages[error_key]\n",
    "\n",
    "    def get_start_codon_indices(self, frame_number):\n",
    "        seq_frame = self.seq[frame_number:]\n",
    "        start_codon_indices = [index for index in range(frame_number, len(seq_frame)) if seq_frame[index: index + 3] == \"ATG\"]\n",
    "        return start_codon_indices\n",
    "    def get_end_codon_indices(self, frame_number):\n",
    "        seq_frame = self.seq[frame_number:]\n",
    "        stop_codon_indicies = [index for index in range(frame_number, len(seq_frame)) if seq_frame[index: index + 3] in [\"TGA\", \"TAA\", \"TAG\"]]\n",
    "        return stop_codon_indicies\n",
    "\n",
    "handler = SequenceHandler(data)\n",
    "\n",
    "if __name__ == \"__main__\": \n",
    "    start_indexes = handler.get_start_codon_indices(0)\n",
    "    print(start_indexes)"
   ]
  },
  {
   "cell_type": "markdown",
   "metadata": {},
   "source": [
    "6. The codons TAA, TGA and TAG indicate the end of an ORF. Find out whether any of these sequences are present, and the indices at which they start. (10)"
   ]
  },
  {
   "cell_type": "code",
   "execution_count": 6,
   "metadata": {},
   "outputs": [
    {
     "name": "stdout",
     "output_type": "stream",
     "text": [
      "[2, 6, 51, 59, 69, 81, 93, 123, 130, 142, 145, 163, 170, 179, 186, 193, 208, 225, 230, 237, 241, 245, 253, 272, 287, 296, 300]\n"
     ]
    }
   ],
   "source": [
    "file_path = \"C:\\\\Users\\\\danie\\\\Downloads\\\\dnasequence.txt\"\n",
    "\n",
    "with open(file_path, \"r\") as f:\n",
    "    data = f.read().strip(\"\\n\")\n",
    "\n",
    "class SequenceHandler():\n",
    "    def __init__(self, seq) -> None:\n",
    "        self.seq = seq\n",
    "        self.check_set = {'T', 'C', 'A', 'G'}\n",
    "\n",
    "    def validate_dna(self):\n",
    "        \"\"\"\n",
    "        Return errors if unexepcted nucleotides are encountered in the given sequence.\n",
    "\n",
    "        :param seq_set: nucleotide sequence\n",
    "        :param check_set: set to check against for membership testing\n",
    "        :type seq_set: array\n",
    "        :type check_set: set\n",
    "        :return: error message\n",
    "        :rtype: str\n",
    "        \"\"\"\n",
    "        error_messages = [\n",
    "        \"DNA Validation: Ok\",\n",
    "        \"Error: DNA Sequence failed to Validate!\",\n",
    "        \"Error: RNA Sequence found!\"\n",
    "        ]\n",
    "        error_key = None\n",
    "        set_seq = set(self.seq)\n",
    "\n",
    "        if set_seq.issubset(self.check_set) == True:\n",
    "            error_key = 0\n",
    "        elif \"U\" in set_seq: error_key = 2\n",
    "        else: error_key = 1\n",
    "\n",
    "        return error_messages[error_key]\n",
    "\n",
    "    def get_start_codon_indices(self, frame_number):\n",
    "        seq_frame = self.seq[frame_number:]\n",
    "        start_codon_indices = [index for index in range(frame_number, len(seq_frame)) if seq_frame[index: index + 3] == \"ATG\"]\n",
    "        return start_codon_indices\n",
    "    def get_end_codon_indices(self, frame_number):\n",
    "        seq_frame = self.seq[frame_number:]\n",
    "        stop_codon_indicies = [index for index in range(frame_number, len(seq_frame)) if seq_frame[index: index + 3] in [\"TGA\", \"TAA\", \"TAG\"]]\n",
    "        return stop_codon_indicies\n",
    "\n",
    "handler = SequenceHandler(data)\n",
    "\n",
    "if __name__ == \"__main__\": \n",
    "    start_indexes = handler.get_start_codon_indices(0)\n",
    "    stop_indexes = handler.get_end_codon_indices(0)\n",
    "    print(stop_indexes)"
   ]
  },
  {
   "cell_type": "markdown",
   "metadata": {},
   "source": [
    "7. When we are considering how codons in the DNA sequence become amino acids, we also have to think about the reading frame. Codons are groups of three letters adjacent to each other, but we don't have any information about which letter starts the codon. So for example, this sequence:\n",
    "```\n",
    "GATCTT\n",
    "```\n",
    "Could be split up in three different ways:\n",
    "```\n",
    "Frame 1: GAT CTT\n",
    "Frame 2: G ATC TT\n",
    "Frame 3: GA TCT T\n",
    "```\n",
    "\n",
    "By convention, we call the codons starting on the first nucleotide (and any subsequent codons in frame with this) frame 1. Codons starting on the second nucleotide, frame 2; and codons starting on the third nucleotide, frame 3.\n",
    "\n",
    "Find the locations of start and stop codons, for each of the three different reading frames. The output of the program should be lists of the start and stop codon positions for each of the three reading frames. The names of the lists should indicate the reading frame and whether it is for start or stop codons. (15)"
   ]
  },
  {
   "cell_type": "code",
   "execution_count": 9,
   "metadata": {},
   "outputs": [
    {
     "name": "stdout",
     "output_type": "stream",
     "text": [
      "For Reading Frame 1: the start codons are [55, 97, 111, 122, 129, 132, 224, 274, 278, 291] and the stop codons are [2, 6, 51, 59, 69, 81, 93, 123, 130, 142, 145, 163, 170, 179, 186, 193, 208, 225, 230, 237, 241, 245, 253, 272, 287, 296, 300]\n",
      "For Reading Frame 2: the start codons are [54, 96, 110, 121, 128, 131, 223, 273, 277, 290] and the stop codons are [1, 5, 50, 58, 68, 80, 92, 122, 129, 141, 144, 162, 169, 178, 185, 192, 207, 224, 229, 236, 240, 244, 252, 271, 286, 295, 299]\n",
      "For Reading Frame 3: the start codons are [53, 95, 109, 120, 127, 130, 222, 272, 276, 289] and the stop codons are [4, 49, 57, 67, 79, 91, 121, 128, 140, 143, 161, 168, 177, 184, 191, 206, 223, 228, 235, 239, 243, 251, 270, 285, 294, 298]\n"
     ]
    }
   ],
   "source": [
    "file_path = \"C:\\\\Users\\\\danie\\\\Downloads\\\\dnasequence.txt\"\n",
    "\n",
    "with open(file_path, \"r\") as f:\n",
    "    data = f.read().strip(\"\\n\")\n",
    "\n",
    "class SequenceHandler():\n",
    "    def __init__(self, seq) -> None:\n",
    "        self.seq = seq\n",
    "        self.check_set = {'T', 'C', 'A', 'G'}\n",
    "\n",
    "    def validate_dna(self):\n",
    "        \"\"\"\n",
    "        Return errors if unexepcted nucleotides are encountered in the given sequence.\n",
    "\n",
    "        :param seq_set: nucleotide sequence\n",
    "        :param check_set: set to check against for membership testing\n",
    "        :type seq_set: array\n",
    "        :type check_set: set\n",
    "        :return: error message\n",
    "        :rtype: str\n",
    "        \"\"\"\n",
    "        error_messages = [\n",
    "        \"DNA Validation: Ok\",\n",
    "        \"Error: DNA Sequence failed to Validate!\",\n",
    "        \"Error: RNA Sequence found!\"\n",
    "        ]\n",
    "        error_key = None\n",
    "        set_seq = set(self.seq)\n",
    "\n",
    "        if set_seq.issubset(self.check_set) == True:\n",
    "            error_key = 0\n",
    "        elif \"U\" in set_seq: error_key = 2\n",
    "        else: error_key = 1\n",
    "\n",
    "        return error_messages[error_key]\n",
    "\n",
    "    def get_start_codon_indices(self, frame_number):\n",
    "        seq_frame = self.seq[frame_number:]\n",
    "        start_codon_indices = [index for index in range(frame_number, len(seq_frame)) if seq_frame[index: index + 3] == \"ATG\"]\n",
    "        return start_codon_indices\n",
    "    def get_end_codon_indices(self, frame_number):\n",
    "        seq_frame = self.seq[frame_number:]\n",
    "        stop_codon_indicies = [index for index in range(frame_number, len(seq_frame)) if seq_frame[index: index + 3] in [\"TGA\", \"TAA\", \"TAG\"]]\n",
    "        return stop_codon_indicies\n",
    "\n",
    "handler = SequenceHandler(data)\n",
    "\n",
    "if __name__ == \"__main__\": \n",
    "    for x in range(3):\n",
    "        start_indexes = handler.get_start_codon_indices(x)\n",
    "        stop_indexes = handler.get_end_codon_indices(x)\n",
    "        print(\"For Reading Frame {}: the start codons are {} and the stop codons are {}\".format(x + 1, start_indexes, stop_indexes))"
   ]
  },
  {
   "cell_type": "markdown",
   "metadata": {},
   "source": [
    "8. Now we want to identify potential ORFs. Potential ORFs begin with a start codon and end with a stop codon. The sequence can contain additional start codons but cannot contain a stop codon. \n",
    "So for example for this sequence has two potential ORFs:\n",
    "```\n",
    "sequence: CTATGGGCACGATGGTCCCATGACC\n",
    "ORF1    :   ATGGGCACGATGGTCCCA\n",
    "ORF2    :            ATGGTCCCA\n",
    "```\n",
    "\n",
    "Write a program to identify the first potential ORF in the dna sequence with these properties. You will need to find a start codon and then search along the sequence to find the first stop codon (of any type) that follows it. The ORF includes the start codon but not the stop codon. Print out the starting index of the potential ORF and the sequence of the potential ORF.\n",
    "(10)"
   ]
  },
  {
   "cell_type": "code",
   "execution_count": 1,
   "metadata": {},
   "outputs": [
    {
     "name": "stdout",
     "output_type": "stream",
     "text": [
      "TCTGACTGAGCTACCCTCGGCTCGATCGCTCTCGATCGTCTCGGCTCTATATAATATGCTGATTATATATAGCCTCTCGCCTAGCTGCTATTATAGAATGCTGCTCGCTCGATGCTGCCGCTATGAGATATGATGCTGCTCGTAGTAGCCTGCTCGATCGTGCTAGCGACTGACTGTCGTAGCTGCTAGCTGCTAGTCGACGATCGACTGACTTCTCTCTCGCGATGAAGTAGCTGCTAGCTAGCTAGCTACGTAGCTATCGATCGATCGACTGATGCATGCAGTCGTAGCATGCTTAATTAGAGAGAG\n",
      "\n",
      "\n",
      "frame_number  start_index  nucleotide_seq                                             seq_length  \n",
      "1             111          ATGCTGCCGCTA                                               12          \n",
      "1             129          ATGATGCTGCTCGTAGTAGCCTGCTCGATCGTGCTAGCGACTGACTGTCGTAGCTGC  57          \n",
      "1             132          ATGCTGCTCGTAGTAGCCTGCTCGATCGTGCTAGCGACTGACTGTCGTAGCTGC     54          \n",
      "1             291          ATGCTTAAT                                                  9           \n",
      "\n",
      "\n",
      "frame_number  start_index  nucleotide_seq                                                               seq_length  \n",
      "2             54           ATGCTGATTATATATAGCCTCTCGCCTAGCTGCTATTATAGAATGCTGCTCGCTCGATGCTGCCGCTATGAGATA  75          \n",
      "2             96           ATGCTGCTCGCTCGATGCTGCCGCTATGAGATA                                            33          \n",
      "\n",
      "\n",
      "frame_number  start_index  nucleotide_seq                                    seq_length  \n",
      "3             120          ATGAGATATGATGCTGCTCGTAGTAGCCTGCTCGATCGTGCTAGCGAC  48          \n",
      "3             222          ATGAAG                                            6           \n",
      "3             276          ATGCAGTCG                                         9           \n"
     ]
    }
   ],
   "source": [
    "file_path = \"data\\dnasequence.txt\"\n",
    "\n",
    "with open(file_path, \"r\") as f:\n",
    "    data = f.read().strip(\"\\n\")\n",
    "\n",
    "class SequenceHandler():\n",
    "    def __init__(self, seq) -> None:\n",
    "        self.seq = seq\n",
    "        self.check_set = {'T', 'C', 'A', 'G'}\n",
    "\n",
    "    def validate_dna(self):\n",
    "        \"\"\"\n",
    "        Return errors if unexepcted nucleotides are encountered in the given sequence.\n",
    "\n",
    "        :return: error message\n",
    "        :rtype: str\n",
    "        \"\"\"\n",
    "        error_messages = [\n",
    "        \"DNA Validation: Ok\",\n",
    "        \"Error: DNA Sequence failed to Validate!\",\n",
    "        \"Error: RNA Sequence found!\"\n",
    "        ]\n",
    "        error_key = None\n",
    "        set_seq = set(self.seq)\n",
    "\n",
    "        if set_seq.issubset(self.check_set) == True:\n",
    "            error_key = 0\n",
    "        elif \"U\" in set_seq: error_key = 2\n",
    "        else: error_key = 1\n",
    "\n",
    "        return error_messages[error_key]\n",
    "\n",
    "    def get_start_codon_indices(self, frame_number):\n",
    "        \"\"\"\n",
    "        Return a list of start codon indices in the given reading frame.\n",
    "        \n",
    "        :param frame_number: The reading frame\n",
    "        :type frame_number: int\n",
    "        :return: A list of start codon indices.\n",
    "        :rtype: list[int]\n",
    "        \"\"\"\n",
    "        seq_frame = self.seq[frame_number:]\n",
    "        start_codon_indices = [index for index in range(0, len(seq_frame), 3) if seq_frame[index: index + 3] == \"ATG\"]\n",
    "        return start_codon_indices\n",
    "\n",
    "    def get_end_codon_indices(self, frame_number):\n",
    "        \"\"\"\n",
    "        Return a list of end codon indices in the given reading frame.\n",
    "        \n",
    "        :param frame_number: The reading frame\n",
    "        :type frame_number: int\n",
    "        :return: A list of end codon indices.\n",
    "        :rtype: list[int]\n",
    "        \"\"\"\n",
    "        seq_frame = self.seq[frame_number:]\n",
    "        stop_codon_indicies = [index for index in range(0, len(seq_frame), 3) if seq_frame[index: index + 3] in [\"TGA\", \"TAA\", \"TAG\"]]\n",
    "        return stop_codon_indicies\n",
    "    \n",
    "    def get_orfs(self, frame_number = 0):\n",
    "        \"\"\"\n",
    "        Return a list of Open Reading Frames (ORFs) in the given reading frame.\n",
    "        \n",
    "        :param frame_number: The reading frame\n",
    "        :type frame_number: int\n",
    "        :return: A list of ORFs.\n",
    "        :rtype: list[tuple[int, int, str, int]]\n",
    "        \"\"\"\n",
    "        seq_frame = self.seq[frame_number:]\n",
    "        start_codon_indices = self.get_start_codon_indices(frame_number) \n",
    "        end_codon_indicies = self.get_end_codon_indices(frame_number)\n",
    "        orfs = [] \n",
    "        for start_index in start_codon_indices:\n",
    "            end_index = None\n",
    "            for stop_index in end_codon_indicies:\n",
    "                if stop_index > start_index and (stop_index - start_index) % 3 == 0:\n",
    "                    end_index = stop_index\n",
    "                    break\n",
    "\n",
    "            if end_index is not None:\n",
    "                orf = seq_frame[start_index:end_index]\n",
    "                orfs.append((frame_number + 1, start_index, orf, len(orf)))\n",
    "        \n",
    "        return orfs\n",
    "    \n",
    "    def print_orf_table(self, paired_list):\n",
    "        \"\"\"\n",
    "        Prints a table with ORF data.\n",
    "\n",
    "        :param paired_list: A list of tuples where each tuple contains the frame number, start index, nucleotide sequence, and ORF length.\n",
    "        :type paired_list: list of tuples\n",
    "        :return: None\n",
    "        :rtype: None\n",
    "        \"\"\"\n",
    "        headers = (\"frame_number\", \"start_index\", \"nucleotide_seq\", \"seq_length\")\n",
    "        col_widths = []\n",
    "        for i in range(len(headers)):\n",
    "            max_len = max(len(str(row[i])) for row in paired_list + [headers])\n",
    "            col_widths.append(max_len + 2)\n",
    "\n",
    "        row_format = \"\".join([\"{:<\" + str(width) + \"}\" for width in col_widths])\n",
    "        print(row_format.format(*headers))\n",
    "\n",
    "        for row in paired_list:\n",
    "            print(row_format.format(*row, len(row[2])))\n",
    "\n",
    "    def determine_mutation(self): \n",
    "        pass   \n",
    "\n",
    "handler = SequenceHandler(data)\n",
    "\n",
    "if __name__ == \"__main__\": \n",
    "    for x in range(3):\n",
    "        orf_data = handler.get_orfs(x)\n",
    "        print(\"\\n\")\n",
    "        handler.print_orf_table(orf_data)\n",
    "\n"
   ]
  },
  {
   "cell_type": "markdown",
   "metadata": {},
   "source": [
    "9. Find all potential ORFs in the dna sequence (properties as before, begin with a start codon, end with a stop codon, can contain a start codon but cannot contain a stop codon). Create two lists, one of which contains the position of the starting point of the potential ORF, and one of which contains the potential ORF. Print out both lists. (15)"
   ]
  },
  {
   "cell_type": "code",
   "execution_count": 3,
   "metadata": {},
   "outputs": [
    {
     "name": "stdout",
     "output_type": "stream",
     "text": [
      "CTATGGGCACGATGGTCCCATGACCTGA\n",
      "\n",
      "\n",
      "frame_number  start_index  nucleotide_seq  seq_length  \n",
      "\n",
      "\n",
      "frame_number  start_index  nucleotide_seq  seq_length  \n",
      "2             18           ATGACC          6           \n",
      "\n",
      "\n",
      "frame_number  start_index  nucleotide_seq      seq_length  \n",
      "3             0            ATGGGCACGATGGTCCCA  18          \n",
      "3             9            ATGGTCCCA           9           \n"
     ]
    }
   ],
   "source": [
    "file_path = \"data\\dnasequence_test.txt\"\n",
    "\n",
    "with open(file_path, \"r\") as f:\n",
    "    data = f.read().strip(\"\\n\")\n",
    "    print(data)\n",
    "\n",
    "class SequenceHandler():\n",
    "    def __init__(self, seq) -> None:\n",
    "        self.seq = seq\n",
    "        self.check_set = {'T', 'C', 'A', 'G'}\n",
    "\n",
    "    def validate_dna(self):\n",
    "        \"\"\"\n",
    "        Return errors if unexepcted nucleotides are encountered in the given sequence.\n",
    "\n",
    "        :return: error message\n",
    "        :rtype: str\n",
    "        \"\"\"\n",
    "        error_messages = [\n",
    "        \"DNA Validation: Ok\",\n",
    "        \"Error: DNA Sequence failed to Validate!\",\n",
    "        \"Error: RNA Sequence found!\"\n",
    "        ]\n",
    "        error_key = None\n",
    "        set_seq = set(self.seq)\n",
    "\n",
    "        if set_seq.issubset(self.check_set) == True:\n",
    "            error_key = 0\n",
    "        elif \"U\" in set_seq: error_key = 2\n",
    "        else: error_key = 1\n",
    "\n",
    "        return error_messages[error_key]\n",
    "\n",
    "    def get_start_codon_indices(self, frame_number):\n",
    "        \"\"\"\n",
    "        Return a list of start codon indices in the given reading frame.\n",
    "        \n",
    "        :param frame_number: The reading frame\n",
    "        :type frame_number: int\n",
    "        :return: A list of start codon indices.\n",
    "        :rtype: list[int]\n",
    "        \"\"\"\n",
    "        seq_frame = self.seq[frame_number:]\n",
    "        start_codon_indices = [index for index in range(0, len(seq_frame), 3) if seq_frame[index: index + 3] == \"ATG\"]\n",
    "        return start_codon_indices\n",
    "\n",
    "    def get_end_codon_indices(self, frame_number):\n",
    "        \"\"\"\n",
    "        Return a list of end codon indices in the given reading frame.\n",
    "        \n",
    "        :param frame_number: The reading frame\n",
    "        :type frame_number: int\n",
    "        :return: A list of end codon indices.\n",
    "        :rtype: list[int]\n",
    "        \"\"\"\n",
    "        seq_frame = self.seq[frame_number:]\n",
    "        stop_codon_indicies = [index for index in range(0, len(seq_frame), 3) if seq_frame[index: index + 3] in [\"TGA\", \"TAA\", \"TAG\"]]\n",
    "        return stop_codon_indicies\n",
    "    \n",
    "    def get_orfs(self, frame_number = 0):\n",
    "        \"\"\"\n",
    "        Return a list of Open Reading Frames (ORFs) in the given reading frame.\n",
    "        \n",
    "        :param frame_number: The reading frame\n",
    "        :type frame_number: int\n",
    "        :return: A list of ORFs.\n",
    "        :rtype: list[tuple[int, int, str, int]]\n",
    "        \"\"\"\n",
    "        seq_frame = self.seq[frame_number:]\n",
    "        start_codon_indices = self.get_start_codon_indices(frame_number) \n",
    "        end_codon_indicies = self.get_end_codon_indices(frame_number)\n",
    "        orfs = [] \n",
    "        for start_index in start_codon_indices:\n",
    "            end_index = None\n",
    "            for stop_index in end_codon_indicies:\n",
    "                if stop_index > start_index and (stop_index - start_index) % 3 == 0:\n",
    "                    end_index = stop_index\n",
    "                    break\n",
    "\n",
    "            if end_index is not None:\n",
    "                orf = seq_frame[start_index:end_index]\n",
    "                orfs.append((frame_number + 1, start_index, orf, len(orf)))\n",
    "        \n",
    "        return orfs\n",
    "    \n",
    "    def print_orf_table(self, paired_list):\n",
    "        \"\"\"\n",
    "        Prints a table with ORF data.\n",
    "\n",
    "        :param paired_list: A list of tuples where each tuple contains the frame number, start index, nucleotide sequence, and ORF length.\n",
    "        :type paired_list: list of tuples\n",
    "        :return: None\n",
    "        :rtype: None\n",
    "        \"\"\"\n",
    "        headers = (\"frame_number\", \"start_index\", \"nucleotide_seq\", \"seq_length\")\n",
    "        col_widths = []\n",
    "        for i in range(len(headers)):\n",
    "            max_len = max(len(str(row[i])) for row in paired_list + [headers])\n",
    "            col_widths.append(max_len + 2)\n",
    "\n",
    "        row_format = \"\".join([\"{:<\" + str(width) + \"}\" for width in col_widths])\n",
    "        print(row_format.format(*headers))\n",
    "\n",
    "        for row in paired_list:\n",
    "            print(row_format.format(*row, len(row[2])))\n",
    "\n",
    "    def determine_mutation(self): \n",
    "        pass   \n",
    "\n",
    "handler = SequenceHandler(data)\n",
    "\n",
    "if __name__ == \"__main__\": \n",
    "    for x in range(3):\n",
    "        orf_data = handler.get_orfs(x)\n",
    "        print(\"\\n\")\n",
    "        handler.print_orf_table(orf_data)\n",
    "\n"
   ]
  },
  {
   "cell_type": "markdown",
   "metadata": {},
   "source": [
    "10. Generally speaking the longest open reading frame (i.e. the one with the longest gap between the start codon and a stop codon) is the one which will be used. \n",
    "\n",
    "Identify the longest open reading frame indicate which index position in the DNA sequence would be used for the starting position of the first codon (you should be able to use the lists constructed in question 9 for this). Print out the other codons (groups of three letters) between the start and stop codons of the longest open reading frame.(8)"
   ]
  },
  {
   "cell_type": "code",
   "execution_count": null,
   "metadata": {},
   "outputs": [],
   "source": []
  },
  {
   "cell_type": "markdown",
   "metadata": {},
   "source": [
    "11. A second DNA sequence has been provided (dnasequence2.txt), which is mutated compared to dnasequence.txt. Read this sequence in and compare it letter by letter to the second sequence to find the location of the mutation. Examine the nucleotides around the mutation site to determine what type of mutation has occurred. (10)"
   ]
  },
  {
   "cell_type": "code",
   "execution_count": null,
   "metadata": {},
   "outputs": [],
   "source": []
  },
  {
   "cell_type": "markdown",
   "metadata": {},
   "source": [
    "12. Given the way in which codons (groups of three letters) encode for amino acids and so for proteins, discuss the effect of this mutation. (6)"
   ]
  },
  {
   "cell_type": "markdown",
   "metadata": {},
   "source": [
    "Type answer here:"
   ]
  }
 ],
 "metadata": {
  "kernelspec": {
   "display_name": "Python 3 (ipykernel)",
   "language": "python",
   "name": "python3"
  },
  "language_info": {
   "codemirror_mode": {
    "name": "ipython",
    "version": 3
   },
   "file_extension": ".py",
   "mimetype": "text/x-python",
   "name": "python",
   "nbconvert_exporter": "python",
   "pygments_lexer": "ipython3",
   "version": "3.9.13"
  },
  "vscode": {
   "interpreter": {
    "hash": "47e3f425e1f5e080840b02324288bfe2474c53b4d8fc90d3d863797934e6a5da"
   }
  }
 },
 "nbformat": 4,
 "nbformat_minor": 4
}
