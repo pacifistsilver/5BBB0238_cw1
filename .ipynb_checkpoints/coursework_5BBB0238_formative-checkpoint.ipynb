{
 "cells": [
  {
   "cell_type": "markdown",
   "metadata": {},
   "source": [
    "# Coursework (formative assessment)"
   ]
  },
  {
   "cell_type": "markdown",
   "metadata": {},
   "source": [
    "Complete all questions. Code should be fully commented, and comments will be taken into account when awarding marks. Only the libraries math, numpy and matplotlib are permitted."
   ]
  },
  {
   "cell_type": "markdown",
   "metadata": {},
   "source": [
    "1. Read the DNA sequence from the file dnasequence.txt and print it out. (3)"
   ]
  },
  {
   "cell_type": "code",
   "execution_count": 3,
   "metadata": {},
   "outputs": [
    {
     "name": "stdout",
     "output_type": "stream",
     "text": [
      "TCTGACTGAGCTACCCTCGGCTCGATCGCTCTCGATCGTCTCGGCTCTATATAATATGCTGATTATATATAGCCTCTCGCCTAGCTGCTATTATAGAATGCTGCTCGCTCGATGCTGCCGCTATGAGATATGATGCTGCTCGTAGTAGCCTGCTCGATCGTGCTAGCGACTGACTGTCGTAGCTGCTAGCTGCTAGTCGACGATCGACTGACTTCTCTCTCGCGATGAAGTAGCTGCTAGCTAGCTAGCTACGTAGCTATCGATCGATCGACTGATGCATGCAGTCGTAGCATGCTTAATTAGAGAGAG\n",
      "\n"
     ]
    }
   ],
   "source": [
    "file_path = \"C:\\\\Users\\\\danie\\\\Downloads\\\\dnasequence.txt\"\n",
    "with open(file_path, \"r\") as f:\n",
    "    data = f.read()\n",
    "    print(data)"
   ]
  },
  {
   "cell_type": "markdown",
   "metadata": {},
   "source": [
    "2. Identify the length of the DNA sequence (i.e. the number of nucleotides in the sequence). (3)"
   ]
  },
  {
   "cell_type": "code",
   "execution_count": 4,
   "metadata": {},
   "outputs": [
    {
     "name": "stdout",
     "output_type": "stream",
     "text": [
      "310\n"
     ]
    }
   ],
   "source": [
    "file_path = \"C:\\\\Users\\\\danie\\\\Downloads\\\\dnasequence.txt\"\n",
    "with open(file_path, \"r\") as f:\n",
    "    data = f.read()\n",
    "\n",
    "print(len(data))"
   ]
  },
  {
   "cell_type": "markdown",
   "metadata": {},
   "source": [
    "3. Write a program to confirm that the sequence contains the letters A,G,C,T but not U (which would mean it was RNA) or any other letter (which would mean that the data was of an unexpected type). Include messages to the user for both possible error cases. (12)"
   ]
  },
  {
   "cell_type": "code",
   "execution_count": 8,
   "metadata": {},
   "outputs": [
    {
     "name": "stdout",
     "output_type": "stream",
     "text": [
      "DNA Sequence TypeCheck: ok\n"
     ]
    }
   ],
   "source": [
    "file_path = \"C:\\\\Users\\\\danie\\\\Downloads\\\\dnasequence.txt\"\n",
    "dna_set = {'T', 'C', 'A', 'G'}\n",
    "\n",
    "with open(file_path, \"r\") as f:\n",
    "    data = f.read().strip(\"\\n\")\n",
    "\n",
    "def check_error_cases(seq, check_set):\n",
    "    \"\"\"\n",
    "    Return errors if unexepcted nucleotides are encountered in the given sequence.\n",
    "\n",
    "    :param seq_set: nucleotide sequence\n",
    "    :param check_set: set to check against for membership testing\n",
    "    :type seq_set: array\n",
    "    :type check_set: set\n",
    "    :return: error message\n",
    "    :rtype: str\n",
    "    \"\"\"\n",
    "    error_message_dict = {0: \"DNA Sequence TypeCheck: ok\", 1: \"Error: Unexpected Type encountered in dna sequence\", 2: \"Error: uracil found in dna sequence\"}\n",
    "    error_key = None\n",
    "    seq = set(seq)\n",
    "\n",
    "    if seq.issubset(check_set) == True:\n",
    "        error_key = 0\n",
    "    elif \"U\" in seq: error_key = 2\n",
    "    else: error_key = 1\n",
    "\n",
    "    return error_message_dict[error_key]\n",
    "\n",
    "if __name__ == \"__main__\": \n",
    "    print(check_error_cases(data, dna_set))"
   ]
  },
  {
   "cell_type": "markdown",
   "metadata": {},
   "source": [
    "4. The codon 'ATG' encodes for the amino acid methionine, and indicates the start of an open reading frame (ORF). Find whether there are any instances of this codon in the DNA sequence. (3)"
   ]
  },
  {
   "cell_type": "code",
   "execution_count": null,
   "metadata": {},
   "outputs": [],
   "source": [
    "file_path = \"C:\\\\Users\\\\danie\\\\Downloads\\\\dnasequence.txt\"\n",
    "dna_set = {'T', 'C', 'A', 'G'}\n",
    "\n",
    "with open(file_path, \"r\") as f:\n",
    "    data = f.read().strip(\"\\n\")\n",
    "\n",
    "def check_error_cases(seq, check_set):\n",
    "    \"\"\"\n",
    "    Return errors if unexepcted nucleotides are encountered in the given sequence.\n",
    "\n",
    "    :param seq_set: nucleotide sequence\n",
    "    :param check_set: set to check against for membership testing\n",
    "    :type seq_set: array\n",
    "    :type check_set: set\n",
    "    :return: error message\n",
    "    :rtype: str\n",
    "    \"\"\"\n",
    "    error_message_dict = {0: \"DNA Sequence TypeCheck: ok\", 1: \"Error: Unexpected Type encountered in dna sequence\", 2: \"Error: uracil found in dna sequence\"}\n",
    "    error_key = None\n",
    "    seq = set(seq)\n",
    "\n",
    "    if seq.issubset(check_set) == True:\n",
    "        error_key = 0\n",
    "    elif \"U\" in seq: error_key = 2\n",
    "    else: error_key = 1\n",
    "\n",
    "    return error_message_dict[error_key]\n",
    "\n",
    "def get_orf(seq):\n",
    "    if 'ATG' in seq:\n",
    "        return True\n",
    "\n",
    "if __name__ == \"__main__\": \n",
    "    dnaseq_code = check_error_cases(data, dna_set)\n",
    "    if get_orf(data) == True: print(\"ATG Codons found in sequence\")\n"
   ]
  },
  {
   "cell_type": "markdown",
   "metadata": {},
   "source": [
    "5. Identify all the indices where 'ATG' sequences start in the DNA sequence. (5)"
   ]
  },
  {
   "cell_type": "code",
   "execution_count": null,
   "metadata": {},
   "outputs": [],
   "source": [
    "file_path = \"C:\\\\Users\\\\danie\\\\Downloads\\\\dnasequence.txt\"\n",
    "dna_set = {'T', 'C', 'A', 'G'}\n",
    "\n",
    "with open(file_path, \"r\") as f:\n",
    "    data = f.read().strip(\"\\n\")\n",
    "\n",
    "def check_error_cases(seq, check_set):\n",
    "    \"\"\"\n",
    "    Return errors if unexepcted nucleotides are encountered in the given sequence.\n",
    "\n",
    "    :param seq_set: nucleotide sequence\n",
    "    :param check_set: set to check against for membership testing\n",
    "    :type seq_set: array\n",
    "    :type check_set: set\n",
    "    :return: error message\n",
    "    :rtype: str\n",
    "    \"\"\"\n",
    "    error_message_dict = {0: \"DNA Sequence TypeCheck: ok\", 1: \"Error: Unexpected Type encountered in dna sequence\", 2: \"Error: uracil found in dna sequence\"}\n",
    "    error_key = None\n",
    "    seq = set(seq)\n",
    "\n",
    "    if seq.issubset(check_set) == True:\n",
    "        error_key = 0\n",
    "    elif \"U\" in seq: error_key = 2\n",
    "    else: error_key = 1\n",
    "\n",
    "    return error_message_dict[error_key]\n",
    "\n",
    "def get_orf(seq):\n",
    "    start_codon_indices = [index for index in range(len(seq)) if seq[index: index + 3] == \"ATG\"]\n",
    "    if 'ATG' in seq:\n",
    "        return True\n",
    "\n",
    "if __name__ == \"__main__\": \n",
    "    dnaseq_code = check_error_cases(data, dna_set)\n",
    "    if get_orf(data) == True: print(\"ATG Codons found in sequence\")"
   ]
  },
  {
   "cell_type": "markdown",
   "metadata": {},
   "source": [
    "6. The codons TAA, TGA and TAG indicate the end of an ORF. Find out whether any of these sequences are present, and the indices at which they start. (10)"
   ]
  },
  {
   "cell_type": "code",
   "execution_count": null,
   "metadata": {},
   "outputs": [],
   "source": []
  },
  {
   "cell_type": "markdown",
   "metadata": {},
   "source": [
    "7. When we are considering how codons in the DNA sequence become amino acids, we also have to think about the reading frame. Codons are groups of three letters adjacent to each other, but we don't have any information about which letter starts the codon. So for example, this sequence:\n",
    "```\n",
    "GATCTT\n",
    "```\n",
    "Could be split up in three different ways:\n",
    "```\n",
    "Frame 1: GAT CTT\n",
    "Frame 2: G ATC TT\n",
    "Frame 3: GA TCT T\n",
    "```\n",
    "\n",
    "By convention, we call the codons starting on the first nucleotide (and any subsequent codons in frame with this) frame 1. Codons starting on the second nucleotide, frame 2; and codons starting on the third nucleotide, frame 3.\n",
    "\n",
    "Find the locations of start and stop codons, for each of the three different reading frames. The output of the program should be lists of the start and stop codon positions for each of the three reading frames. The names of the lists should indicate the reading frame and whether it is for start or stop codons. (15)"
   ]
  },
  {
   "cell_type": "code",
   "execution_count": null,
   "metadata": {},
   "outputs": [],
   "source": []
  },
  {
   "cell_type": "markdown",
   "metadata": {},
   "source": [
    "8. Now we want to identify potential ORFs. Potential ORFs begin with a start codon and end with a stop codon. The sequence can contain additional start codons but cannot contain a stop codon. \n",
    "So for example for this sequence has two potential ORFs:\n",
    "```\n",
    "sequence: CTATGGGCACGATGGTCCCATGACC\n",
    "ORF1    :   ATGGGCACGATGGTCCCA\n",
    "ORF2    :            ATGGTCCCA\n",
    "```\n",
    "\n",
    "Write a program to identify the first potential ORF in the dna sequence with these properties. You will need to find a start codon and then search along the sequence to find the first stop codon (of any type) that follows it. The ORF includes the start codon but not the stop codon. Print out the starting index of the potential ORF and the sequence of the potential ORF.\n",
    "(10)"
   ]
  },
  {
   "cell_type": "code",
   "execution_count": null,
   "metadata": {},
   "outputs": [],
   "source": []
  },
  {
   "cell_type": "markdown",
   "metadata": {},
   "source": [
    "9. Find all potential ORFs in the dna sequence (properties as before, begin with a start codon, end with a stop codon, can contain a start codon but cannot contain a stop codon). Create two lists, one of which contains the position of the starting point of the potential ORF, and one of which contains the potential ORF. Print out both lists. (15)"
   ]
  },
  {
   "cell_type": "code",
   "execution_count": null,
   "metadata": {},
   "outputs": [],
   "source": []
  },
  {
   "cell_type": "markdown",
   "metadata": {},
   "source": [
    "10. Generally speaking the longest open reading frame (i.e. the one with the longest gap between the start codon and a stop codon) is the one which will be used. \n",
    "\n",
    "Identify the longest open reading frame indicate which index position in the DNA sequence would be used for the starting position of the first codon (you should be able to use the lists constructed in question 9 for this). Print out the other codons (groups of three letters) between the start and stop codons of the longest open reading frame.(8)"
   ]
  },
  {
   "cell_type": "code",
   "execution_count": null,
   "metadata": {},
   "outputs": [],
   "source": []
  },
  {
   "cell_type": "markdown",
   "metadata": {},
   "source": [
    "11. A second DNA sequence has been provided (dnasequence2.txt), which is mutated compared to dnasequence.txt. Read this sequence in and compare it letter by letter to the second sequence to find the location of the mutation. Examine the nucleotides around the mutation site to determine what type of mutation has occurred. (10)"
   ]
  },
  {
   "cell_type": "code",
   "execution_count": null,
   "metadata": {},
   "outputs": [],
   "source": []
  },
  {
   "cell_type": "markdown",
   "metadata": {},
   "source": [
    "12. Given the way in which codons (groups of three letters) encode for amino acids and so for proteins, discuss the effect of this mutation. (6)"
   ]
  },
  {
   "cell_type": "markdown",
   "metadata": {},
   "source": [
    "Type answer here:"
   ]
  }
 ],
 "metadata": {
  "kernelspec": {
   "display_name": "Python 3 (ipykernel)",
   "language": "python",
   "name": "python3"
  },
  "language_info": {
   "codemirror_mode": {
    "name": "ipython",
    "version": 3
   },
   "file_extension": ".py",
   "mimetype": "text/x-python",
   "name": "python",
   "nbconvert_exporter": "python",
   "pygments_lexer": "ipython3",
   "version": "3.9.13"
  }
 },
 "nbformat": 4,
 "nbformat_minor": 4
}
